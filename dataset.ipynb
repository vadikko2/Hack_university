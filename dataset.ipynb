{
 "cells": [
  {
   "cell_type": "markdown",
   "metadata": {},
   "source": [
    "# Класс для работы с базой, находящихся в конкретной области людей"
   ]
  },
  {
   "cell_type": "code",
   "execution_count": 79,
   "metadata": {},
   "outputs": [],
   "source": [
    "import pickle as pkl\n",
    "import json as js\n",
    "import os\n",
    "import numpy as np"
   ]
  },
  {
   "cell_type": "code",
   "execution_count": 77,
   "metadata": {},
   "outputs": [],
   "source": [
    "class Dataset:\n",
    "    def __init__(self, buffer_file):\n",
    "        self.buf = buffer_file\n",
    "        if not os.path.exists(self.buf):\n",
    "            with open(self.buf, 'w') as f:\n",
    "                f.write(js.dumps([{},]))\n",
    "    def _input(self, person_info):\n",
    "        inarea = js.load(open(self.buf))\n",
    "        if not __inarea__(inarea, inarea, person_info):\n",
    "            inarea.append(person_info)\n",
    "        \n",
    "    def _output(self):\n",
    "        pass\n",
    "    \n",
    "    def __inarea__(self, inarea, target_person):\n",
    "        \n",
    "        "
   ]
  },
  {
   "cell_type": "code",
   "execution_count": 78,
   "metadata": {},
   "outputs": [
    {
     "name": "stdout",
     "output_type": "stream",
     "text": [
      "{}\n"
     ]
    }
   ],
   "source": [
    "db = Dataset(\"inarea.json\")\n",
    "db._input({'none':None})"
   ]
  }
 ],
 "metadata": {
  "kernelspec": {
   "display_name": "Python 3",
   "language": "python",
   "name": "python3"
  },
  "language_info": {
   "codemirror_mode": {
    "name": "ipython",
    "version": 3
   },
   "file_extension": ".py",
   "mimetype": "text/x-python",
   "name": "python",
   "nbconvert_exporter": "python",
   "pygments_lexer": "ipython3",
   "version": "3.6.4"
  }
 },
 "nbformat": 4,
 "nbformat_minor": 2
}
