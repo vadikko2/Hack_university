{
 "cells": [
  {
   "cell_type": "markdown",
   "metadata": {},
   "source": [
    "# Класс для работы с базой, находящихся в конкретной области людей"
   ]
  },
  {
   "cell_type": "code",
   "execution_count": 80,
   "metadata": {},
   "outputs": [],
   "source": [
    "import pickle as pkl\n",
    "import json as js\n",
    "import os\n",
    "import numpy as np\n",
    "from scipy.spatial import distance"
   ]
  },
  {
   "cell_type": "code",
   "execution_count": 152,
   "metadata": {},
   "outputs": [],
   "source": [
    "class Dataset:\n",
    "    def __init__(self, buffer_file):\n",
    "        self.buf = buffer_file\n",
    "        if not os.path.exists(self.buf):\n",
    "            with open(self.buf, 'w') as f:\n",
    "                f.write(js.dumps([{},]))\n",
    "    def __call__(self, person_info, action):\n",
    "        if action:\n",
    "            self._input(person_info)\n",
    "        else:\n",
    "            self._output(person_info)\n",
    "    \n",
    "    def dump(self, data):\n",
    "        with open(self.buf, 'w') as f:\n",
    "            f.write(js.dumps(data))\n",
    "    def load(self):\n",
    "        return js.load(open(self.buf))\n",
    "    def _input(self, person_info):\n",
    "        inarea = self.load()\n",
    "        if not self.__inarea__(inarea, person_info)[0]:\n",
    "            inarea.append(person_info)\n",
    "        self.dump(inarea)\n",
    "    def _output(self, person_info):\n",
    "        inarea = self.load()\n",
    "        check = self.__inarea__(inarea, person_info)\n",
    "        if check[0]:\n",
    "            inarea.remove(inarea[check[1]])\n",
    "        self.dump(inarea)\n",
    "    def __inarea__(self, inarea, target_person):\n",
    "        vectors = [self.__strToArray__(p['vector']) for p in inarea]\n",
    "        dists = []\n",
    "        for v in vectors:\n",
    "            dists.append(distance.euclidean(v, self.__strToArray__(target_person['vector'])))\n",
    "        dists = np.asarray(dists)\n",
    "        if np.min(dists) < 0.55:\n",
    "            return (True, np.argmin(dists))\n",
    "        else:\n",
    "            return (False, 0)\n",
    "        \n",
    "    def __strToArray__(self, string):\n",
    "        return np.asarray([float(v) for v in string.split(';')])\n",
    "    \n",
    "    def fictionvectors(self):\n",
    "        fict_vs = []\n",
    "        for i in range(10):\n",
    "            fict_vs.append({'vector':self.__arrayToStr__(np.random.random(24))})\n",
    "        with open(self.buf, 'w') as f:\n",
    "            f.write(js.dumps(fict_vs))\n",
    "            \n",
    "    def __arrayToStr__(self, array):\n",
    "        array_strs = [str(v) for v in array]\n",
    "        return ';'.join(array_strs)"
   ]
  },
  {
   "cell_type": "code",
   "execution_count": 153,
   "metadata": {},
   "outputs": [],
   "source": [
    "db = Dataset(\"inarea.json\")\n",
    "#db._input({'none':None})\n",
    "db.fictionvectors()\n",
    "#db._input({'vector':db.__arrayToStr__(np.random.random(24))})\n",
    "db({'vector':db.__arrayToStr__(np.random.random(24))}, False)"
   ]
  }
 ],
 "metadata": {
  "kernelspec": {
   "display_name": "Python 3",
   "language": "python",
   "name": "python3"
  },
  "language_info": {
   "codemirror_mode": {
    "name": "ipython",
    "version": 3
   },
   "file_extension": ".py",
   "mimetype": "text/x-python",
   "name": "python",
   "nbconvert_exporter": "python",
   "pygments_lexer": "ipython3",
   "version": "3.6.4"
  }
 },
 "nbformat": 4,
 "nbformat_minor": 2
}
