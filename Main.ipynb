{
 "cells": [
  {
   "cell_type": "markdown",
   "metadata": {},
   "source": [
    "# Сервис для статистического анализа потока посетителей.\n",
    "## Пол, возраст и интенсивность посещений."
   ]
  },
  {
   "cell_type": "code",
   "execution_count": 1,
   "metadata": {},
   "outputs": [
    {
     "name": "stderr",
     "output_type": "stream",
     "text": [
      "/anaconda3/lib/python3.6/site-packages/h5py/__init__.py:36: FutureWarning: Conversion of the second argument of issubdtype from `float` to `np.floating` is deprecated. In future, it will be treated as `np.float64 == np.dtype(float).type`.\n",
      "  from ._conv import register_converters as _register_converters\n",
      "Using TensorFlow backend.\n"
     ]
    }
   ],
   "source": [
    "import models\n",
    "import cv2\n",
    "import os\n",
    "\n",
    "fdet = models.FaceDetection()\n",
    "fdes = models.FaceDescription('data/model_weights/LandmarkFace.dat', 'data/model_weights/ResNetFace.dat')"
   ]
  },
  {
   "cell_type": "markdown",
   "metadata": {},
   "source": [
    "# Нахождение и распознавание лиц.\n",
    "## Благодоря технологиям верифекации человека по лицу наш сервис всегда знает, кто когда зашел и ушел, а так же сколько человек сейчас находится в помещении.\n",
    "### Пример \"Face Detection\".\n",
    "<img src=\"data/images/facedetect.png\" width=\"50%\">"
   ]
  },
  {
   "cell_type": "code",
   "execution_count": 2,
   "metadata": {},
   "outputs": [],
   "source": [
    "cap = cv2.VideoCapture(0)\n",
    "\n",
    "facesV = []\n",
    "\n",
    "while True:\n",
    "\n",
    "    ret, frame = cap.read()\n",
    "\n",
    "    dets = fdet(frame)\n",
    "    \n",
    "    facesV = fdes(frame, dets = dets)\n",
    "    \n",
    "    for k, d in enumerate(dets):\n",
    "        cv2.rectangle(frame, (d.left(), d.top()), (d.right(), d.bottom()), (0, 0, 255), 1, 8, 0)\n",
    "\n",
    "    cv2.imshow('capture', frame)\n",
    "    if cv2.waitKey(1) & 0xFF == ord('q'):\n",
    "        break\n",
    "\n",
    "cv2.destroyAllWindows()\n",
    "cap.release()"
   ]
  },
  {
   "cell_type": "markdown",
   "metadata": {},
   "source": [
    "# Описание лиц 128-мерным вектором.\n",
    "## После нахождения лиц на изображении нейронная сеть типа ResNet-34 раскладывает его на 128-мерный вектор. После мы можем их сравнивать на схожесть. \n",
    "\n",
    "### Пример \"Face Description\".\n",
    "<img src=\"data/images/facesPlot.png\" width=\"50%\">"
   ]
  },
  {
   "cell_type": "code",
   "execution_count": 3,
   "metadata": {},
   "outputs": [],
   "source": [
    "# %matplotlib inline\n",
    "\n",
    "# import matplotlib.pyplot as plt\n",
    "# plt.figure(figsize = (20,10), dpi = 400)\n",
    "\n",
    "# for i,face in enumerate(facesV):\n",
    "#     plt.plot(face + i, label = 'Face_' + str(i))\n",
    "# plt.legend()\n",
    "# plt.xticks([])\n",
    "# plt.yticks([])\n",
    "\n",
    "# plt.show()"
   ]
  },
  {
   "cell_type": "code",
   "execution_count": 4,
   "metadata": {
    "scrolled": true
   },
   "outputs": [
    {
     "name": "stderr",
     "output_type": "stream",
     "text": [
      "/Users/nativesmell/Documents/Work/Hack_university/models.py:183: UserWarning: Update your `Conv2D` call to the Keras 2 API: `Conv2D(kernel_size=(3, 3), filters=16, strides=(1, 1), padding=\"same\", kernel_initializer=\"he_normal\", kernel_regularizer=<keras.reg..., use_bias=False)`\n",
      "  bias=self._use_bias)(inputs)\n",
      "/Users/nativesmell/Documents/Work/Hack_university/models.py:131: UserWarning: Update your `Conv2D` call to the Keras 2 API: `Conv2D(128, (3, 3), strides=(1, 1), padding=\"same\", kernel_initializer=\"he_normal\", kernel_regularizer=<keras.reg..., use_bias=False)`\n",
      "  bias=self._use_bias)(convs)\n",
      "/Users/nativesmell/Documents/Work/Hack_university/models.py:142: UserWarning: Update your `Conv2D` call to the Keras 2 API: `Conv2D(128, (3, 3), strides=(1, 1), padding=\"same\", kernel_initializer=\"he_normal\", kernel_regularizer=<keras.reg..., use_bias=False)`\n",
      "  bias=self._use_bias)(convs)\n",
      "/Users/nativesmell/Documents/Work/Hack_university/models.py:150: UserWarning: Update your `Conv2D` call to the Keras 2 API: `Conv2D(128, (1, 1), strides=(1, 1), padding=\"same\", kernel_initializer=\"he_normal\", kernel_regularizer=<keras.reg..., use_bias=False)`\n",
      "  bias=self._use_bias)(net)\n",
      "/Users/nativesmell/Documents/Work/Hack_university/models.py:154: UserWarning: The `merge` function is deprecated and will be removed after 08/2017. Use instead layers from `keras.layers.merge`, e.g. `add`, `concatenate`, etc.\n",
      "  return merge([convs, shortcut], mode=\"sum\")\n",
      "/anaconda3/lib/python3.6/site-packages/keras/legacy/layers.py:465: UserWarning: The `Merge` layer is deprecated and will be removed after 08/2017. Use instead layers from `keras.layers.merge`, e.g. `add`, `concatenate`, etc.\n",
      "  name=name)\n",
      "/Users/nativesmell/Documents/Work/Hack_university/models.py:131: UserWarning: Update your `Conv2D` call to the Keras 2 API: `Conv2D(256, (3, 3), strides=(2, 2), padding=\"same\", kernel_initializer=\"he_normal\", kernel_regularizer=<keras.reg..., use_bias=False)`\n",
      "  bias=self._use_bias)(convs)\n",
      "/Users/nativesmell/Documents/Work/Hack_university/models.py:142: UserWarning: Update your `Conv2D` call to the Keras 2 API: `Conv2D(256, (3, 3), strides=(1, 1), padding=\"same\", kernel_initializer=\"he_normal\", kernel_regularizer=<keras.reg..., use_bias=False)`\n",
      "  bias=self._use_bias)(convs)\n",
      "/Users/nativesmell/Documents/Work/Hack_university/models.py:150: UserWarning: Update your `Conv2D` call to the Keras 2 API: `Conv2D(256, (1, 1), strides=(2, 2), padding=\"same\", kernel_initializer=\"he_normal\", kernel_regularizer=<keras.reg..., use_bias=False)`\n",
      "  bias=self._use_bias)(net)\n",
      "/Users/nativesmell/Documents/Work/Hack_university/models.py:131: UserWarning: Update your `Conv2D` call to the Keras 2 API: `Conv2D(256, (3, 3), strides=(1, 1), padding=\"same\", kernel_initializer=\"he_normal\", kernel_regularizer=<keras.reg..., use_bias=False)`\n",
      "  bias=self._use_bias)(convs)\n",
      "/Users/nativesmell/Documents/Work/Hack_university/models.py:131: UserWarning: Update your `Conv2D` call to the Keras 2 API: `Conv2D(512, (3, 3), strides=(2, 2), padding=\"same\", kernel_initializer=\"he_normal\", kernel_regularizer=<keras.reg..., use_bias=False)`\n",
      "  bias=self._use_bias)(convs)\n",
      "/Users/nativesmell/Documents/Work/Hack_university/models.py:142: UserWarning: Update your `Conv2D` call to the Keras 2 API: `Conv2D(512, (3, 3), strides=(1, 1), padding=\"same\", kernel_initializer=\"he_normal\", kernel_regularizer=<keras.reg..., use_bias=False)`\n",
      "  bias=self._use_bias)(convs)\n",
      "/Users/nativesmell/Documents/Work/Hack_university/models.py:150: UserWarning: Update your `Conv2D` call to the Keras 2 API: `Conv2D(512, (1, 1), strides=(2, 2), padding=\"same\", kernel_initializer=\"he_normal\", kernel_regularizer=<keras.reg..., use_bias=False)`\n",
      "  bias=self._use_bias)(net)\n",
      "/Users/nativesmell/Documents/Work/Hack_university/models.py:131: UserWarning: Update your `Conv2D` call to the Keras 2 API: `Conv2D(512, (3, 3), strides=(1, 1), padding=\"same\", kernel_initializer=\"he_normal\", kernel_regularizer=<keras.reg..., use_bias=False)`\n",
      "  bias=self._use_bias)(convs)\n",
      "/Users/nativesmell/Documents/Work/Hack_university/models.py:193: UserWarning: Update your `AveragePooling2D` call to the Keras 2 API: `AveragePooling2D(pool_size=(8, 8), strides=(1, 1), padding=\"same\")`\n",
      "  pool = AveragePooling2D(pool_size=(8, 8), strides=(1, 1), border_mode=\"same\")(relu)\n",
      "/Users/nativesmell/Documents/Work/Hack_university/models.py:196: UserWarning: Update your `Dense` call to the Keras 2 API: `Dense(activation=\"softmax\", units=2, kernel_initializer=\"he_normal\", kernel_regularizer=<keras.reg..., use_bias=False)`\n",
      "  W_regularizer=l2(self._weight_decay), activation=\"softmax\")(flatten)\n",
      "/Users/nativesmell/Documents/Work/Hack_university/models.py:198: UserWarning: Update your `Dense` call to the Keras 2 API: `Dense(activation=\"softmax\", units=101, kernel_initializer=\"he_normal\", kernel_regularizer=<keras.reg..., use_bias=False)`\n",
      "  W_regularizer=l2(self._weight_decay), activation=\"softmax\")(flatten)\n",
      "/Users/nativesmell/Documents/Work/Hack_university/models.py:200: UserWarning: Update your `Model` call to the Keras 2 API: `Model(inputs=Tensor(\"in..., outputs=[<tf.Tenso...)`\n",
      "  model = Model(input=inputs, output=[predictions_g, predictions_a])\n"
     ]
    }
   ],
   "source": [
    "AGS_model = models.WideResNetCreater()()\n",
    "AGS_model.load_weights(os.path.join(\"data/model_weights/\", \"weights.18-4.06.hdf5\"))"
   ]
  },
  {
   "cell_type": "code",
   "execution_count": 5,
   "metadata": {},
   "outputs": [],
   "source": [
    "from IPython.display import Image, display, SVG\n",
    "\n",
    "fig = SVG(models.visModel(AGS_model, savePath = 'data/images/', name = 'AGS_structure'))"
   ]
  },
  {
   "cell_type": "markdown",
   "metadata": {},
   "source": [
    "# Классификация по полу и оценка возраста\n",
    "## Для классификации пола и  оценки возраста также используется сеть типа ResNet, но в этот раз мы имеем два выхода, один бинарный, он говорит мужчина перед нами или женщина, а второй выдает вектор, сумма координат которого даст оценку возраста.\n",
    "### Структура модели.\n",
    "<img src=\"data/images/AGS_structure.png\" width=\"100%\">"
   ]
  },
  {
   "cell_type": "code",
   "execution_count": null,
   "metadata": {},
   "outputs": [],
   "source": []
  }
 ],
 "metadata": {
  "kernelspec": {
   "display_name": "Python 3",
   "language": "python",
   "name": "python3"
  },
  "language_info": {
   "codemirror_mode": {
    "name": "ipython",
    "version": 3
   },
   "file_extension": ".py",
   "mimetype": "text/x-python",
   "name": "python",
   "nbconvert_exporter": "python",
   "pygments_lexer": "ipython3",
   "version": "3.6.4"
  }
 },
 "nbformat": 4,
 "nbformat_minor": 2
}
